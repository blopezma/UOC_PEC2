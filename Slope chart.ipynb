{
 "cells": [
  {
   "cell_type": "markdown",
   "id": "e685a216",
   "metadata": {},
   "source": [
    "import pandas as pd\n",
    "import matplotlib.pyplot as plt\n",
    "\n",
    "df = pd.read_csv(r\"C:\\Users\\blope\\OneDrive\\Documentos\\UOC\\Año 3\\S2\\Visualización\\Data_laliga.csv\", sep=\";\")\n",
    "\n",
    "clubs = [\"REAL MADRID\", \"FC BARCELONA\", \"ATLÉTICO DE MADRID\", \"VALENCIA CF\", \"ATHLETIC CLUB\"]\n",
    "colors = ['#769465', '#69BDE0', '#E06D5E', '#2F7694', '#94E069']\n",
    "\n",
    "fig, ax = plt.subplots(1, figsize=(25,10))\n",
    "for i, v in enumerate(clubs):\n",
    "    temp = df[df['Football club'] == v]\n",
    "    plt.plot(temp.Year_start_season, temp.Amount, color=colors[i], lw=2.5)\n",
    "            \n",
    "    plt.text(temp.Year_start_season.values[0]+0.02, \n",
    "             temp.Amount.values[0], \n",
    "             '{:,.2f}'.format(temp.Amount.values[0]))\n",
    "    \n",
    "    plt.text(temp.Year_start_season.values[1]-0.02, \n",
    "             temp.Amount.values[1], \n",
    "             '{:,.2f}'.format(temp.Amount.values[1]), \n",
    "             va='center', ha='right')\n",
    "\n",
    "plt.xlim(2018.5,2021.5)\n",
    "plt.xticks([2019, 2021])\n",
    "yticks = plt.yticks()[0]\n",
    "plt.yticks([])\n",
    "\n",
    "ax.xaxis.grid(color='black', linestyle='solid', \n",
    "              which='both', alpha=0.9)\n",
    "\n",
    "ax.spines['right'].set_visible(False)\n",
    "ax.spines['left'].set_visible(False)\n",
    "ax.spines['bottom'].set_visible(False)\n",
    "ax.spines['top'].set_visible(False)\n",
    "plt.title('Salary cap', loc='center', fontsize=20)\n",
    "\n",
    "plt.legend(clubs, loc='upper left', frameon=False)\n",
    "plt.show()"
   ]
  }
 ],
 "metadata": {
  "kernelspec": {
   "display_name": "Python 3 (ipykernel)",
   "language": "python",
   "name": "python3"
  },
  "language_info": {
   "codemirror_mode": {
    "name": "ipython",
    "version": 3
   },
   "file_extension": ".py",
   "mimetype": "text/x-python",
   "name": "python",
   "nbconvert_exporter": "python",
   "pygments_lexer": "ipython3",
   "version": "3.10.9"
  }
 },
 "nbformat": 4,
 "nbformat_minor": 5
}
